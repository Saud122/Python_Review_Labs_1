{
 "cells": [
  {
   "cell_type": "markdown",
   "id": "b97dc926",
   "metadata": {},
   "source": [
    "## Lab1-Variables\n",
    "- Define a variable that has a value of your favourite season.\n",
    "- Define “x“ variable has an integer value and variable “y” has a float value.\n",
    "- Assign One Value to Multiple Variables.\n",
    "- Assign Many Values to Multiple Variables."
   ]
  },
  {
   "cell_type": "code",
   "execution_count": 4,
   "id": "8d2579eb",
   "metadata": {},
   "outputs": [
    {
     "name": "stdout",
     "output_type": "stream",
     "text": [
      "Spring\n",
      "20\n",
      "25.0\n",
      "224\n",
      "22.44\n"
     ]
    }
   ],
   "source": [
    "Var1 = \"Spring\"\n",
    "x = 20\n",
    "y  = 25.0\n",
    "z = 224\n",
    "c =22.44\n",
    "print(Var1)\n",
    "print(x)\n",
    "print(y)\n",
    "print(z)\n",
    "print(c)"
   ]
  },
  {
   "cell_type": "markdown",
   "id": "e6d060b4",
   "metadata": {},
   "source": [
    "## Lab2-Conditions\n",
    "\n",
    "### You want to recommend a movie to a friend based on the rating and popularity. To accomplish this do the following: \n",
    "\n",
    "- Create a variable for the movie (choose any movie you like).\n",
    "- Create a variable of type int to hold the rating of the movie out of 5. Give this movie rate = 3\n",
    "- Create a popularity score of type float, let it be 72.65\n",
    "- Using an if statement:\n",
    " - Check if the movie rating is 4 or greater and the popularity is greater than 80, print \"Highly recommended\".\n",
    " - Else if the movie rating is 3 or greater and the popularity is greater than 70, print \"I recommended it, It is good\".\n",
    " - Else if the movie rating is 2 or less and the popularity is greater than 60, print \"You should check it out!\".\n",
    " - Else the movie rating is 2 or less and the popularity is less than 50, print \"Don't watch it, It is a waste of time\"."
   ]
  },
  {
   "cell_type": "code",
   "execution_count": 7,
   "id": "b41b0f4b",
   "metadata": {},
   "outputs": [
    {
     "name": "stdout",
     "output_type": "stream",
     "text": [
      "The Diplomat is Highly recommended.\n"
     ]
    }
   ],
   "source": [
    "# Movie name\n",
    "movie_tit = \"The Diplomat\"\n",
    "\n",
    "# Movie rating out of 5\n",
    "movie_rating = 5\n",
    "\n",
    "# Popularity score\n",
    "popularity = 93.42\n",
    "\n",
    "# Using an if statement to recommend the movie based on rating and popularity\n",
    "if movie_rating >= 4 and popularity > 80:\n",
    "  print(f\"{movie_tit} is Highly recommended.\")\n",
    "elif movie_rating >= 3 and popularity > 70:\n",
    "  print(f\"I recommended {movie_tit}, It is good.\")\n",
    "elif movie_rating <= 2 and popularity > 60:\n",
    "  print(f\"You should check out {movie_tit}!\")\n",
    "else:\n",
    "  print(f\"Don't watch {movie_tit}, It is a waste of time.\")"
   ]
  },
  {
   "cell_type": "code",
   "execution_count": null,
   "id": "18e439aa",
   "metadata": {},
   "outputs": [],
   "source": []
  }
 ],
 "metadata": {
  "kernelspec": {
   "display_name": "Python 3 (ipykernel)",
   "language": "python",
   "name": "python3"
  },
  "language_info": {
   "codemirror_mode": {
    "name": "ipython",
    "version": 3
   },
   "file_extension": ".py",
   "mimetype": "text/x-python",
   "name": "python",
   "nbconvert_exporter": "python",
   "pygments_lexer": "ipython3",
   "version": "3.11.9"
  }
 },
 "nbformat": 4,
 "nbformat_minor": 5
}
